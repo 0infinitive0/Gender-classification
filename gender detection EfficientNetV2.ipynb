{
 "cells": [
  {
   "cell_type": "code",
   "source": [
    "import os\n",
    "import tensorflow as tf\n",
    "from tensorflow import keras\n",
    "from tensorflow.keras import layers\n",
    "from tensorflow.keras import Model\n",
    "from tensorflow.keras.preprocessing.image import ImageDataGenerator\n",
    "from tensorflow.keras.callbacks import ReduceLROnPlateau, ModelCheckpoint, EarlyStopping\n",
    "from tensorflow.keras.models import Sequential,load_model,save_model\n",
    "from tensorflow.keras.layers import Dense,Conv2D,Flatten,MaxPooling2D\n",
    "from keras.layers import BatchNormalization\n",
    "from tensorflow.keras.optimizers import Adam"
   ],
   "metadata": {
    "collapsed": false,
    "pycharm": {
     "name": "#%%\n"
    }
   },
   "execution_count": 1,
   "outputs": []
  },
  {
   "cell_type": "code",
   "execution_count": 2,
   "outputs": [],
   "source": [
    "train_datagen = ImageDataGenerator(rescale = 1./255,\n",
    "      rotation_range=25,\n",
    "      width_shift_range=0.2,\n",
    "      height_shift_range=0.2,\n",
    "      shear_range=0.2,\n",
    "      zoom_range=0.2,\n",
    "      horizontal_flip=True,\n",
    "      fill_mode='nearest')"
   ],
   "metadata": {
    "collapsed": false,
    "pycharm": {
     "name": "#%%\n"
    }
   }
  },
  {
   "cell_type": "code",
   "execution_count": 3,
   "outputs": [],
   "source": [
    "batch_size = 64\n",
    "target_size = (64, 64)\n",
    "input_shape=(64, 64, 3)\n",
    "seed=1337\n",
    "adam = 0.001\n",
    "fre= -20\n",
    "FC = 2048\n",
    "E = 1\n",
    "patience = 3\n",
    "verbose = 1\n",
    "factor = 0.50\n",
    "min_lr = 0.0001\n",
    "steps_per_epoch=256\n",
    "validation_steps=256\n",
    "epochs=8"
   ],
   "metadata": {
    "collapsed": false,
    "pycharm": {
     "name": "#%%\n"
    }
   }
  },
  {
   "cell_type": "code",
   "execution_count": 4,
   "outputs": [
    {
     "name": "stdout",
     "output_type": "stream",
     "text": [
      "Found 160000 images belonging to 2 classes.\n",
      "Found 22598 images belonging to 2 classes.\n"
     ]
    }
   ],
   "source": [
    "test_datagen = ImageDataGenerator( rescale = 1.0/255)\n",
    "\n",
    "train_generator = train_datagen.flow_from_directory('I:\\study\\dpl\\project\\Dataset\\Train',\n",
    "                                                    batch_size =batch_size ,\n",
    "                                                    class_mode = 'binary',\n",
    "                                                    seed=seed,\n",
    "                                                    target_size = target_size )\n",
    "\n",
    "validation_generator =  test_datagen.flow_from_directory( 'I:\\study\\dpl\\project\\Dataset\\Validation',\n",
    "                                                          batch_size  = batch_size,\n",
    "                                                          class_mode  = 'binary',\n",
    "                                                          seed=seed,\n",
    "                                                          target_size = target_size)"
   ],
   "metadata": {
    "collapsed": false,
    "pycharm": {
     "name": "#%%\n"
    }
   }
  },
  {
   "cell_type": "code",
   "execution_count": 5,
   "outputs": [],
   "source": [
    "base_model = tf.keras.applications.EfficientNetV2M(input_shape=input_shape,include_top=False,weights=\"imagenet\")"
   ],
   "metadata": {
    "collapsed": false,
    "pycharm": {
     "name": "#%%\n"
    }
   }
  },
  {
   "cell_type": "code",
   "execution_count": 6,
   "outputs": [
    {
     "name": "stdout",
     "output_type": "stream",
     "text": [
      "Model: \"sequential\"\n",
      "_________________________________________________________________\n",
      " Layer (type)                Output Shape              Param #   \n",
      "=================================================================\n",
      " efficientnetv2-m (Functiona  (None, 2, 2, 1280)       53150388  \n",
      " l)                                                              \n",
      "                                                                 \n",
      " dropout (Dropout)           (None, 2, 2, 1280)        0         \n",
      "                                                                 \n",
      " conv2d (Conv2D)             (None, 2, 2, 512)         5898752   \n",
      "                                                                 \n",
      " batch_normalization (BatchN  (None, 2, 2, 512)        2048      \n",
      " ormalization)                                                   \n",
      "                                                                 \n",
      " dropout_1 (Dropout)         (None, 2, 2, 512)         0         \n",
      "                                                                 \n",
      " conv2d_1 (Conv2D)           (None, 2, 2, 128)         589952    \n",
      "                                                                 \n",
      " batch_normalization_1 (Batc  (None, 2, 2, 128)        512       \n",
      " hNormalization)                                                 \n",
      "                                                                 \n",
      " dropout_2 (Dropout)         (None, 2, 2, 128)         0         \n",
      "                                                                 \n",
      " conv2d_2 (Conv2D)           (None, 2, 2, 384)         442752    \n",
      "                                                                 \n",
      " batch_normalization_2 (Batc  (None, 2, 2, 384)        1536      \n",
      " hNormalization)                                                 \n",
      "                                                                 \n",
      " dropout_3 (Dropout)         (None, 2, 2, 384)         0         \n",
      "                                                                 \n",
      " conv2d_3 (Conv2D)           (None, 2, 2, 384)         1327488   \n",
      "                                                                 \n",
      " batch_normalization_3 (Batc  (None, 2, 2, 384)        1536      \n",
      " hNormalization)                                                 \n",
      "                                                                 \n",
      " dropout_4 (Dropout)         (None, 2, 2, 384)         0         \n",
      "                                                                 \n",
      " conv2d_4 (Conv2D)           (None, 2, 2, 500)         1728500   \n",
      "                                                                 \n",
      " batch_normalization_4 (Batc  (None, 2, 2, 500)        2000      \n",
      " hNormalization)                                                 \n",
      "                                                                 \n",
      " max_pooling2d (MaxPooling2D  (None, 1, 1, 500)        0         \n",
      " )                                                               \n",
      "                                                                 \n",
      " flatten (Flatten)           (None, 500)               0         \n",
      "                                                                 \n",
      " dense (Dense)               (None, 2048)              1026048   \n",
      "                                                                 \n",
      " dropout_5 (Dropout)         (None, 2048)              0         \n",
      "                                                                 \n",
      " dense_1 (Dense)             (None, 2048)              4196352   \n",
      "                                                                 \n",
      " dropout_6 (Dropout)         (None, 2048)              0         \n",
      "                                                                 \n",
      " dense_2 (Dense)             (None, 2048)              4196352   \n",
      "                                                                 \n",
      " dropout_7 (Dropout)         (None, 2048)              0         \n",
      "                                                                 \n",
      " dense_3 (Dense)             (None, 1)                 2049      \n",
      "                                                                 \n",
      "=================================================================\n",
      "Total params: 72,566,265\n",
      "Trainable params: 72,270,417\n",
      "Non-trainable params: 295,848\n",
      "_________________________________________________________________\n"
     ]
    }
   ],
   "source": [
    "model=Sequential()\n",
    "model.add(base_model)\n",
    "model.add(layers.Dropout(.2))\n",
    "\n",
    "model.add(Conv2D(512, (3, 3),strides=(1,1), activation='relu', padding='same'))\n",
    "model.add(BatchNormalization())\n",
    "model.add(layers.Dropout(.1))\n",
    "model.add(Conv2D(128, (3, 3),strides=(1,1), activation='relu', padding='same'))\n",
    "model.add(BatchNormalization())\n",
    "model.add(layers.Dropout(.1))\n",
    "model.add(Conv2D(384, (3, 3),strides=(1,1), activation='relu', padding='same'))\n",
    "model.add(BatchNormalization())\n",
    "model.add(layers.Dropout(.1))\n",
    "model.add(Conv2D(384, (3, 3),strides=(1,1), activation='relu', padding='same'))\n",
    "model.add(BatchNormalization())\n",
    "model.add(layers.Dropout(.1))\n",
    "model.add(Conv2D(500, (3, 3),strides=(1,1), activation='relu', padding='same'))\n",
    "model.add(BatchNormalization())\n",
    "model.add(MaxPooling2D(2,strides=(2,2), padding='same'))\n",
    "\n",
    "\n",
    "\n",
    "# Add new layers\n",
    "model.add(Flatten())\n",
    "model.add(Dense(FC , activation='relu'))\n",
    "model.add(layers.Dropout(.2))\n",
    "model.add(Dense(FC , activation='relu'))\n",
    "model.add(layers.Dropout(.2))\n",
    "model.add(Dense(FC, activation='relu'))\n",
    "model.add(layers.Dropout(.2))\n",
    "model.add(Dense(E, activation='sigmoid'))\n",
    "\n",
    "model.summary()"
   ],
   "metadata": {
    "collapsed": false,
    "pycharm": {
     "name": "#%%\n"
    }
   }
  },
  {
   "cell_type": "code",
   "execution_count": 7,
   "outputs": [],
   "source": [
    "model.compile(optimizer=Adam(adam),\n",
    "              loss='binary_crossentropy'\n",
    "              ,metrics=['accuracy'])"
   ],
   "metadata": {
    "collapsed": false,
    "pycharm": {
     "name": "#%%\n"
    }
   }
  },
  {
   "cell_type": "code",
   "execution_count": 8,
   "outputs": [],
   "source": [
    "lrd = ReduceLROnPlateau(monitor = 'val_loss',\n",
    "                        patience = patience,\n",
    "                        verbose = verbose ,\n",
    "                        factor = factor,\n",
    "                        min_lr = min_lr)\n",
    "\n",
    "mcp = ModelCheckpoint('model_ENV2.h5')\n",
    "\n",
    "es = EarlyStopping(verbose=verbose, patience=patience)"
   ],
   "metadata": {
    "collapsed": false,
    "pycharm": {
     "name": "#%%\n"
    }
   }
  },
  {
   "cell_type": "code",
   "execution_count": 9,
   "outputs": [
    {
     "name": "stdout",
     "output_type": "stream",
     "text": [
      "CPU times: total: 0 ns\n",
      "Wall time: 0 ns\n"
     ]
    },
    {
     "name": "stderr",
     "output_type": "stream",
     "text": [
      "C:\\Users\\asus\\AppData\\Local\\Temp\\ipykernel_9144\\2476792664.py:2: UserWarning: `Model.fit_generator` is deprecated and will be removed in a future version. Please use `Model.fit`, which supports generators.\n",
      "  hist = model.fit_generator(generator=train_generator,\n"
     ]
    },
    {
     "name": "stdout",
     "output_type": "stream",
     "text": [
      "Epoch 1/8\n",
      "256/256 [==============================] - 680s 3s/step - loss: 0.6522 - accuracy: 0.6840 - val_loss: 0.7375 - val_accuracy: 0.6078 - lr: 0.0010\n",
      "Epoch 2/8\n",
      "256/256 [==============================] - 583s 2s/step - loss: 0.3928 - accuracy: 0.8276 - val_loss: 0.2557 - val_accuracy: 0.9060 - lr: 0.0010\n",
      "Epoch 3/8\n",
      "256/256 [==============================] - 599s 2s/step - loss: 0.4085 - accuracy: 0.8212 - val_loss: 0.3342 - val_accuracy: 0.8554 - lr: 0.0010\n",
      "Epoch 4/8\n",
      "256/256 [==============================] - 584s 2s/step - loss: 0.3919 - accuracy: 0.8248 - val_loss: 0.7586 - val_accuracy: 0.5664 - lr: 0.0010\n",
      "Epoch 5/8\n",
      "256/256 [==============================] - ETA: 0s - loss: 0.2770 - accuracy: 0.8832\n",
      "Epoch 5: ReduceLROnPlateau reducing learning rate to 0.0005000000237487257.\n",
      "256/256 [==============================] - 595s 2s/step - loss: 0.2770 - accuracy: 0.8832 - val_loss: 0.2685 - val_accuracy: 0.8813 - lr: 0.0010\n",
      "Epoch 5: early stopping\n"
     ]
    }
   ],
   "source": [
    "%time\n",
    "hist = model.fit_generator(generator=train_generator,\n",
    "                           validation_data=validation_generator,\n",
    "                           steps_per_epoch=steps_per_epoch,\n",
    "                           validation_steps=validation_steps,\n",
    "                           epochs=epochs,\n",
    "                           callbacks=[lrd, mcp, es])"
   ],
   "metadata": {
    "collapsed": false,
    "pycharm": {
     "name": "#%%\n"
    }
   }
  },
  {
   "cell_type": "code",
   "execution_count": 10,
   "outputs": [
    {
     "data": {
      "text/plain": "<Figure size 432x288 with 1 Axes>",
      "image/png": "[encoded data removed]"
     },
     "metadata": {
      "needs_background": "light"
     },
     "output_type": "display_data"
    },
    {
     "data": {
      "text/plain": "<Figure size 432x288 with 0 Axes>"
     },
     "metadata": {},
     "output_type": "display_data"
    }
   ],
   "source": [
    "import matplotlib.pyplot as plt\n",
    "acc = hist.history['accuracy']\n",
    "val_acc = hist.history['val_accuracy']\n",
    "loss = hist.history['loss']\n",
    "val_loss = hist.history['val_loss']\n",
    "\n",
    "epochs = range(len(acc))\n",
    "\n",
    "plt.plot(epochs, acc, 'g', label='Training accuracy')\n",
    "plt.plot(epochs, val_acc, 'y', label='Validation accuracy')\n",
    "plt.title('Training and validation accuracy')\n",
    "plt.legend(loc=0)\n",
    "plt.figure()\n",
    "plt.show()"
   ],
   "metadata": {
    "collapsed": false,
    "pycharm": {
     "name": "#%%\n"
    }
   }
  },
  {
   "cell_type": "code",
   "execution_count": 11,
   "outputs": [
    {
     "name": "stdout",
     "output_type": "stream",
     "text": [
      "Found 20001 images belonging to 2 classes.\n"
     ]
    },
    {
     "name": "stderr",
     "output_type": "stream",
     "text": [
      "C:\\Users\\asus\\AppData\\Local\\Temp\\ipykernel_9144\\612800173.py:6: UserWarning: `Model.evaluate_generator` is deprecated and will be removed in a future version. Please use `Model.evaluate`, which supports generators.\n",
      "  score = model.evaluate_generator(generator=validation_generator,steps=256)\n"
     ]
    }
   ],
   "source": [
    "test_generator =  test_datagen.flow_from_directory( 'I:\\study\\dpl\\project\\Dataset\\Test',\n",
    "                                                          batch_size  = batch_size,\n",
    "                                                          class_mode  = 'binary',\n",
    "                                                          seed=seed,\n",
    "                                                          target_size = target_size)\n",
    "score = model.evaluate_generator(generator=validation_generator,steps=256)"
   ],
   "metadata": {
    "collapsed": false,
    "pycharm": {
     "name": "#%%\n"
    }
   }
  },
  {
   "cell_type": "code",
   "execution_count": 12,
   "outputs": [
    {
     "name": "stdout",
     "output_type": "stream",
     "text": [
      "[0.2680555582046509, 0.88323974609375]\n"
     ]
    }
   ],
   "source": [
    "print(score)"
   ],
   "metadata": {
    "collapsed": false,
    "pycharm": {
     "name": "#%%\n"
    }
   }
  },
  {
   "cell_type": "code",
   "execution_count": 13,
   "outputs": [
    {
     "ename": "AttributeError",
     "evalue": "module 'keras.preprocessing.image' has no attribute 'load_img'",
     "output_type": "error",
     "traceback": [
      "\u001B[1;31m---------------------------------------------------------------------------\u001B[0m",
      "\u001B[1;31mAttributeError\u001B[0m                            Traceback (most recent call last)",
      "Input \u001B[1;32mIn [13]\u001B[0m, in \u001B[0;36m<cell line: 9>\u001B[1;34m()\u001B[0m\n\u001B[0;32m      7\u001B[0m \u001B[38;5;66;03m#  images test 1\u001B[39;00m\n\u001B[0;32m      8\u001B[0m path_testmodel \u001B[38;5;241m=\u001B[39m \u001B[38;5;124m\"\u001B[39m\u001B[38;5;124mI:/study/dpl/project/Dataset/testmodel/test1.jpg\u001B[39m\u001B[38;5;124m\"\u001B[39m\n\u001B[1;32m----> 9\u001B[0m imge \u001B[38;5;241m=\u001B[39m \u001B[43mimage\u001B[49m\u001B[38;5;241;43m.\u001B[39;49m\u001B[43mload_img\u001B[49m(path_testmodel, target_size\u001B[38;5;241m=\u001B[39mtarget_size)\n\u001B[0;32m     11\u001B[0m X \u001B[38;5;241m=\u001B[39m image\u001B[38;5;241m.\u001B[39mimg_to_array(imge)\n\u001B[0;32m     12\u001B[0m X \u001B[38;5;241m=\u001B[39m np\u001B[38;5;241m.\u001B[39mexpand_dims(X, axis\u001B[38;5;241m=\u001B[39m\u001B[38;5;241m0\u001B[39m)\n",
      "\u001B[1;31mAttributeError\u001B[0m: module 'keras.preprocessing.image' has no attribute 'load_img'"
     ]
    }
   ],
   "source": [
    "import numpy as np\n",
    "import keras.backend as K\n",
    "import matplotlib.pyplot as plt\n",
    "import matplotlib\n",
    "\n",
    "from keras.preprocessing import image\n",
    "#  images test 1\n",
    "path_testmodel = \"I:/study/dpl/project/Dataset/testmodel/test1.jpg\"\n",
    "imge = image.load_img(path_testmodel, target_size=target_size)\n",
    "\n",
    "X = image.img_to_array(imge)\n",
    "X = np.expand_dims(X, axis=0)\n",
    "\n",
    "\n",
    "images = np.vstack([X])\n",
    "classes = model.predict(images, batch_size=1)\n",
    "print(classes[0])\n",
    "if classes[0]>0.5:\n",
    "    print(\"This is a male\")\n",
    "else:\n",
    "    print( \"This  is a female\")\n",
    "plt.imshow(imge)"
   ],
   "metadata": {
    "collapsed": false,
    "pycharm": {
     "name": "#%%\n"
    }
   }
  },
  {
   "cell_type": "code",
   "execution_count": null,
   "outputs": [],
   "source": [
    "import numpy as np\n",
    "\n",
    "from keras.preprocessing import image\n",
    "#  images test 2\n",
    "path_testmodel = \"I:/study/dpl/project/Dataset/testmodel/test2.jpg\"\n",
    "imge = image.load_img(path_testmodel, target_size=target_size)\n",
    "X = image.img_to_array(imge)\n",
    "X = np.expand_dims(X, axis=0)\n",
    "\n",
    "images = np.vstack([X])\n",
    "classes = model.predict(images, batch_size=1)\n",
    "print(classes[0])\n",
    "if classes[0]>0.5:\n",
    "    print(\"This is a male\")\n",
    "else:\n",
    "    print( \"This is a female\")\n",
    "\n",
    "plt.imshow(imge)"
   ],
   "metadata": {
    "collapsed": false,
    "pycharm": {
     "name": "#%%\n"
    }
   }
  },
  {
   "cell_type": "code",
   "execution_count": null,
   "outputs": [],
   "source": [],
   "metadata": {
    "collapsed": false,
    "pycharm": {
     "name": "#%%\n"
    }
   }
  }
 ],
 "metadata": {
  "kernelspec": {
   "display_name": "Python 3",
   "language": "python",
   "name": "python3"
  },
  "language_info": {
   "codemirror_mode": {
    "name": "ipython",
    "version": 2
   },
   "file_extension": ".py",
   "mimetype": "text/x-python",
   "name": "python",
   "nbconvert_exporter": "python",
   "pygments_lexer": "ipython2",
   "version": "2.7.6"
  }
 },
 "nbformat": 4,
 "nbformat_minor": 0
}
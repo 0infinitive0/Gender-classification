{
 "cells": [
  {
   "cell_type": "code",
   "execution_count": 2,
   "metadata": {
    "collapsed": true
   },
   "outputs": [],
   "source": [
    "import os\n",
    "import tensorflow as tf\n",
    "from tensorflow import keras\n",
    "from tensorflow.keras import layers\n",
    "from tensorflow.keras import Model\n",
    "from tensorflow.keras.preprocessing.image import ImageDataGenerator\n",
    "from tensorflow.keras.callbacks import ReduceLROnPlateau, ModelCheckpoint, EarlyStopping\n",
    "from tensorflow.keras.models import Sequential,load_model,save_model\n",
    "from tensorflow.keras.layers import Dense,Conv2D,Flatten,MaxPooling2D\n",
    "from keras.layers import BatchNormalization\n",
    "from tensorflow.keras.optimizers import Adam\n",
    "import numpy as np"
   ]
  },
  {
   "cell_type": "code",
   "execution_count": 3,
   "outputs": [],
   "source": [
    "def normalize_img(X):\n",
    "    X_min = X.min(axis=(0, 1), keepdims=True)\n",
    "    X_max = X.max(axis=(0, 1), keepdims=True)\n",
    "    return (X - X_min)/(X_max - X_min)"
   ],
   "metadata": {
    "collapsed": false,
    "pycharm": {
     "name": "#%%\n"
    }
   }
  },
  {
   "cell_type": "code",
   "execution_count": 4,
   "outputs": [],
   "source": [
    "batch_size = 64\n",
    "target_size = (64, 64)\n",
    "input_shape=(64, 64, 3)\n",
    "seed=1337\n",
    "adam = 0.001\n",
    "fre= -20\n",
    "FC = 2048\n",
    "E = 1\n",
    "patience = 3\n",
    "verbose = 1\n",
    "factor = 0.50\n",
    "min_lr = 0.0001\n",
    "steps_per_epoch=256\n",
    "validation_steps=256\n",
    "epochs=8"
   ],
   "metadata": {
    "collapsed": false,
    "pycharm": {
     "name": "#%%\n"
    }
   }
  },
  {
   "cell_type": "code",
   "execution_count": 5,
   "outputs": [],
   "source": [
    "base_model = tf.keras.applications.VGG16(input_shape=input_shape,include_top=False,weights=\"imagenet\")\n",
    "model=Sequential()\n",
    "model.add(base_model)\n",
    "model.add(layers.Dropout(.2))\n",
    "\n",
    "model.add(Conv2D(512, (3, 3),strides=(1,1), activation='relu', padding='same'))\n",
    "model.add(BatchNormalization())\n",
    "model.add(layers.Dropout(.1))\n",
    "model.add(Conv2D(128, (3, 3),strides=(1,1), activation='relu', padding='same'))\n",
    "model.add(BatchNormalization())\n",
    "model.add(layers.Dropout(.1))\n",
    "model.add(Conv2D(384, (3, 3),strides=(1,1), activation='relu', padding='same'))\n",
    "model.add(BatchNormalization())\n",
    "model.add(layers.Dropout(.1))\n",
    "model.add(Conv2D(384, (3, 3),strides=(1,1), activation='relu', padding='same'))\n",
    "model.add(BatchNormalization())\n",
    "model.add(layers.Dropout(.1))\n",
    "model.add(Conv2D(500, (3, 3),strides=(1,1), activation='relu', padding='same'))\n",
    "model.add(BatchNormalization())\n",
    "model.add(MaxPooling2D(2,strides=(2,2), padding='same'))\n",
    "\n",
    "\n",
    "\n",
    "# Add new layers\n",
    "model.add(Flatten())\n",
    "model.add(Dense(FC , activation='relu'))\n",
    "model.add(layers.Dropout(.2))\n",
    "model.add(Dense(FC , activation='relu'))\n",
    "model.add(layers.Dropout(.2))\n",
    "model.add(Dense(FC, activation='relu'))\n",
    "model.add(layers.Dropout(.2))\n",
    "model.add(Dense(E, activation='sigmoid'))\n",
    "\n",
    "model.compile(optimizer=Adam(adam),\n",
    "              loss='binary_crossentropy'\n",
    "              ,metrics=['accuracy'])\n",
    "\n",
    "lrd = ReduceLROnPlateau(monitor = 'val_loss',\n",
    "                        patience = patience,\n",
    "                        verbose = verbose ,\n",
    "                        factor = factor,\n",
    "                        min_lr = min_lr)\n",
    "\n",
    "model.load_weights(\"model_vgg16.h5\")"
   ],
   "metadata": {
    "collapsed": false,
    "pycharm": {
     "name": "#%%\n"
    }
   }
  },
  {
   "cell_type": "code",
   "execution_count": 6,
   "outputs": [
    {
     "name": "stdout",
     "output_type": "stream",
     "text": [
      "Found 20001 images belonging to 2 classes.\n"
     ]
    }
   ],
   "source": [
    "test_datagen = ImageDataGenerator( rescale = 1.0/255)\n",
    "test_generator =  test_datagen.flow_from_directory( 'I:\\study\\dpl\\project\\Dataset\\Test',\n",
    "                                                          batch_size  = 20000,\n",
    "                                                          class_mode  = 'binary',\n",
    "                                                          seed=seed,\n",
    "                                                          target_size = target_size)"
   ],
   "metadata": {
    "collapsed": false,
    "pycharm": {
     "name": "#%%\n"
    }
   }
  },
  {
   "cell_type": "code",
   "execution_count": 7,
   "outputs": [
    {
     "name": "stdout",
     "output_type": "stream",
     "text": [
      "313/313 [==============================] - 193s 613ms/step\n"
     ]
    }
   ],
   "source": [
    "images, actual = next(test_generator)\n",
    "classes = model.predict(images, batch_size=batch_size)\n",
    "predicted = np.round(classes)"
   ],
   "metadata": {
    "collapsed": false,
    "pycharm": {
     "name": "#%%\n"
    }
   }
  },
  {
   "cell_type": "code",
   "execution_count": 8,
   "outputs": [
    {
     "name": "stdout",
     "output_type": "stream",
     "text": [
      "Found 20001 images belonging to 2 classes.\n"
     ]
    }
   ],
   "source": [
    "test_datagen = ImageDataGenerator( rescale = 1.0/255)\n",
    "test_generator =  test_datagen.flow_from_directory( 'I:\\study\\dpl\\project\\Dataset\\Test',\n",
    "                                                          batch_size  = batch_size,\n",
    "                                                          class_mode  = 'binary',\n",
    "                                                          seed=seed,\n",
    "                                                          target_size = target_size)"
   ],
   "metadata": {
    "collapsed": false,
    "pycharm": {
     "name": "#%%\n"
    }
   }
  },
  {
   "cell_type": "code",
   "execution_count": 9,
   "outputs": [
    {
     "name": "stderr",
     "output_type": "stream",
     "text": [
      "C:\\Users\\asus\\AppData\\Local\\Temp\\ipykernel_11316\\2161322666.py:1: UserWarning: `Model.evaluate_generator` is deprecated and will be removed in a future version. Please use `Model.evaluate`, which supports generators.\n",
      "  score = model.evaluate_generator(generator=test_generator,steps=256)\n"
     ]
    },
    {
     "name": "stdout",
     "output_type": "stream",
     "text": [
      "[0.11423312872648239, 0.9605712890625]\n"
     ]
    }
   ],
   "source": [
    "score = model.evaluate_generator(generator=test_generator,steps=256)\n",
    "print(score)"
   ],
   "metadata": {
    "collapsed": false,
    "pycharm": {
     "name": "#%%\n"
    }
   }
  },
  {
   "cell_type": "code",
   "execution_count": 10,
   "outputs": [
    {
     "data": {
      "text/plain": "<Figure size 432x288 with 2 Axes>",
      "image/png": "[encoded data removed]"
     },
     "metadata": {
      "needs_background": "light"
     },
     "output_type": "display_data"
    }
   ],
   "source": [
    "import matplotlib.pyplot as plt\n",
    "from sklearn import metrics\n",
    "\n",
    "\n",
    "metrics.ConfusionMatrixDisplay.from_predictions(actual,predicted, display_labels = ['Female', 'Male'],cmap=plt.cm.Blues)\n",
    "plt.show()"
   ],
   "metadata": {
    "collapsed": false,
    "pycharm": {
     "name": "#%%\n"
    }
   }
  },
  {
   "cell_type": "code",
   "execution_count": 12,
   "outputs": [
    {
     "name": "stdout",
     "output_type": "stream",
     "text": [
      "1/1 [==============================] - 0s 78ms/step\n",
      "[0.99944127]\n",
      "This is a male\n"
     ]
    },
    {
     "data": {
      "text/plain": "<matplotlib.image.AxesImage at 0x1c1ea50f190>"
     },
     "execution_count": 12,
     "metadata": {},
     "output_type": "execute_result"
    },
    {
     "data": {
      "text/plain": "<Figure size 432x288 with 1 Axes>",
      "image/png": "[encoded data removed]"
     },
     "metadata": {
      "needs_background": "light"
     },
     "output_type": "display_data"
    }
   ],
   "source": [
    "import numpy as np\n",
    "import keras.utils as image\n",
    "import  matplotlib.pyplot as plt\n",
    "\n",
    "#  images test 2\n",
    "path_testmodel = \"I:/study/dpl/project/Dataset/testmodel/male/test4.jpg\"\n",
    "imged = image.load_img(path_testmodel, target_size=target_size)\n",
    "X = image.img_to_array(imged)\n",
    "X = np.expand_dims(X, axis=0)\n",
    "X = normalize_img(X)\n",
    "\n",
    "\n",
    "imag = np.vstack([X])\n",
    "classes = model.predict(imag, batch_size=1)\n",
    "print(classes[0])\n",
    "if classes[0]>0.5:\n",
    "    print(\"This is a male\")\n",
    "else:\n",
    "    print( \"This is a female\")\n",
    "\n",
    "plt.imshow(imged)"
   ],
   "metadata": {
    "collapsed": false,
    "pycharm": {
     "name": "#%%\n"
    }
   }
  }
 ],
 "metadata": {
  "kernelspec": {
   "display_name": "Python 3",
   "language": "python",
   "name": "python3"
  },
  "language_info": {
   "codemirror_mode": {
    "name": "ipython",
    "version": 2
   },
   "file_extension": ".py",
   "mimetype": "text/x-python",
   "name": "python",
   "nbconvert_exporter": "python",
   "pygments_lexer": "ipython2",
   "version": "2.7.6"
  }
 },
 "nbformat": 4,
 "nbformat_minor": 0
}